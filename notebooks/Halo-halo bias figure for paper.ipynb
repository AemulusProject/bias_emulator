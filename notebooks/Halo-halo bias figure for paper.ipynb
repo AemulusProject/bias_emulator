{
 "cells": [
  {
   "cell_type": "markdown",
   "metadata": {},
   "source": [
    "# Making a figure looking at $b^2$\n",
    "\n",
    "This notebook is used to make a figure for the halo bais paper. It will use some modules that aren't dependencies of this one, so it likely won't run for a user."
   ]
  },
  {
   "cell_type": "code",
   "execution_count": 1,
   "metadata": {},
   "outputs": [],
   "source": [
    "import numpy as np\n",
    "import bias_emulator\n",
    "import hmf_emulator\n",
    "import aemulus_data as AD\n",
    "import aemulus_extras as ae\n",
    "import matplotlib.pyplot as plt\n",
    "from scipy.interpolate import InterpolatedUnivariateSpline as IUS\n",
    "%matplotlib inline"
   ]
  },
  {
   "cell_type": "code",
   "execution_count": 2,
   "metadata": {},
   "outputs": [],
   "source": [
    "plt.rc(\"font\", size=16, family=\"serif\")\n",
    "plt.rc(\"errorbar\", capsize=3)\n",
    "plt.rc(\"text\", usetex=True)"
   ]
  },
  {
   "cell_type": "code",
   "execution_count": 10,
   "metadata": {},
   "outputs": [
    {
     "name": "stdout",
     "output_type": "stream",
     "text": [
      "Cosmology for testing simulation 0 loaded\n"
     ]
    }
   ],
   "source": [
    "cosmo_index = 0\n",
    "#Note: we remove sigma8 from the list of parameters\n",
    "cosmology = AD.test_box_cosmologies()[cosmo_index][:-1]\n",
    "cosmo_dict = {\"omega_b\":cosmology[0], \"omega_cdm\":cosmology[1], \"w0\":cosmology[2],\n",
    "             \"n_s\":cosmology[3], \"ln10As\":cosmology[4],\"H0\":cosmology[5],\"N_eff\":cosmology[6]}\n",
    "print(\"Cosmology for testing simulation %d loaded\"%cosmo_index)\n",
    "Extras = ae.Extras(cosmo_index, testing=True) #Testing cosmos == MedBox cosmos"
   ]
  },
  {
   "cell_type": "code",
   "execution_count": 11,
   "metadata": {},
   "outputs": [],
   "source": [
    "#Create emulators\n",
    "bias_emu = bias_emulator.bias_emulator()\n",
    "bias_emu.set_cosmology(cosmo_dict)\n",
    "hmf_emu = hmf_emulator.hmf_emulator()\n",
    "hmf_emu.set_cosmology(cosmo_dict)"
   ]
  },
  {
   "cell_type": "code",
   "execution_count": 13,
   "metadata": {},
   "outputs": [],
   "source": [
    "#Make a function to get halo data\n",
    "def get_halo_data(snap):\n",
    "    _, Mlos, Mhis, Masses = np.loadtxt(datapath+\"MedBox000_Z%d_halo_means_hmcf.txt\"%snap, \n",
    "                                       unpack=True)\n",
    "    Mhis[-1] = 10**16.5\n",
    "    return Mlos, Mhis, Masses\n",
    "\n",
    "redshifts = 1./AD.scale_factors() - 1"
   ]
  },
  {
   "cell_type": "code",
   "execution_count": 14,
   "metadata": {},
   "outputs": [],
   "source": [
    "#Write a function to get the correct bin-averaged bias\n",
    "def bin_ave_biases_in_snap(snap):\n",
    "    \n",
    "    Mlos, Mhis, Masses = get_halo_data(snap)\n",
    "    \n",
    "    Marr = np.logspace(np.log10(Mlos[0]), np.log10(Mhis[-1]), 1000)\n",
    "    lnMarr = np.log(Marr)\n",
    "    bias_at_Marr = bias_emu.bias(Marr, redshifts[snap])\n",
    "    dndM_at_Marr = hmf_emu.dndM(Marr, redshift[snap])\n",
    "    \n",
    "    bhmf_spl = IUS(lnMarr, bias_at_Marr*dndM_at_Marr*Marr)\n",
    "    hmf_spl = IUS(lnMarr, dndM_at_Marr*Marr)\n",
    "\n",
    "    lnMlos = np.log(Mlos)\n",
    "    lnMhis = np.log(Mhis)\n",
    "    \n",
    "    output = np.zeros_like(Mlos)\n",
    "    for i in range(len(output)):\n",
    "        num = bhmf_spl.integral(lnMlos[i], lnMhis[i])\n",
    "        den = hmf_spl.integral(lnMlos[i], lnMhis[i])\n",
    "        output[i] = num/den\n",
    "    return output"
   ]
  },
  {
   "cell_type": "code",
   "execution_count": 15,
   "metadata": {},
   "outputs": [],
   "source": [
    "#Write a function to get the correct bin-averaged bias^2\n",
    "def bin_ave_b2_in_snap(snap):\n",
    "    \n",
    "    Mlos, Mhis, Masses = get_halo_data(snap)\n",
    "    \n",
    "    Marr = np.logspace(np.log10(Mlos[0]), np.log10(Mhis[-1]), 1000)\n",
    "    lnMarr = np.log(Marr)\n",
    "    bias_at_Marr = bias_emu.bias(Marr, redshifts[snap])\n",
    "    dndM_at_Marr = hmf_emu.dndM(Marr, redshift[snap])\n",
    "    \n",
    "    b2hmf_spl = IUS(lnMarr, bias_at_Marr*bias_at_Marr*dndM_at_Marr*Marr)\n",
    "    hmf_spl = IUS(lnMarr, dndM_at_Marr*Marr)\n",
    "\n",
    "    lnMlos = np.log(Mlos)\n",
    "    lnMhis = np.log(Mhis)\n",
    "    \n",
    "    output = np.zeros_like(Mlos)\n",
    "    for i in range(len(output)):\n",
    "        num = b2hmf_spl.integral(lnMlos[i], lnMhis[i])\n",
    "        den = hmf_spl.integral(lnMlos[i], lnMhis[i])\n",
    "        output[i] = num/den\n",
    "    return output"
   ]
  },
  {
   "cell_type": "code",
   "execution_count": null,
   "metadata": {},
   "outputs": [],
   "source": []
  }
 ],
 "metadata": {
  "kernelspec": {
   "display_name": "Python 2",
   "language": "python",
   "name": "python2"
  },
  "language_info": {
   "codemirror_mode": {
    "name": "ipython",
    "version": 2
   },
   "file_extension": ".py",
   "mimetype": "text/x-python",
   "name": "python",
   "nbconvert_exporter": "python",
   "pygments_lexer": "ipython2",
   "version": "2.7.13"
  }
 },
 "nbformat": 4,
 "nbformat_minor": 2
}
