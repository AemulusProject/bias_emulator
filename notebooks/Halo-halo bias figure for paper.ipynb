{
 "cells": [
  {
   "cell_type": "markdown",
   "metadata": {},
   "source": [
    "# Making a figure looking at $b^2$\n",
    "\n",
    "This notebook is used to make a figure for the halo bais paper. It will use some modules that aren't dependencies of this one, so it likely won't run for a user."
   ]
  },
  {
   "cell_type": "code",
   "execution_count": 1,
   "metadata": {},
   "outputs": [],
   "source": [
    "import numpy as np\n",
    "import bias_emulator\n",
    "import hmf_emulator\n",
    "import aemulus_data as AD\n",
    "import aemulus_extras as ae\n",
    "import matplotlib.pyplot as plt\n",
    "from scipy.interpolate import InterpolatedUnivariateSpline as IUS\n",
    "%matplotlib inline"
   ]
  },
  {
   "cell_type": "code",
   "execution_count": 2,
   "metadata": {},
   "outputs": [],
   "source": [
    "plt.rc(\"font\", size=16, family=\"serif\")\n",
    "plt.rc(\"errorbar\", capsize=3)\n",
    "plt.rc(\"text\", usetex=True)"
   ]
  },
  {
   "cell_type": "code",
   "execution_count": 3,
   "metadata": {},
   "outputs": [
    {
     "name": "stdout",
     "output_type": "stream",
     "text": [
      "Cosmology for building simulation 0 loaded\n"
     ]
    }
   ],
   "source": [
    "cosmo_index = 0\n",
    "#Note: we remove sigma8 from the list of parameters\n",
    "cosmology = AD.building_box_cosmologies()[cosmo_index][:-1]\n",
    "cosmo_dict = {\"omega_b\":cosmology[0], \"omega_cdm\":cosmology[1], \"w0\":cosmology[2],\n",
    "             \"n_s\":cosmology[3], \"ln10As\":cosmology[4],\"H0\":cosmology[5],\"N_eff\":cosmology[6]}\n",
    "print(\"Cosmology for building simulation %d loaded\"%cosmo_index)\n",
    "Extras = ae.Extras(cosmo_index, testing=False) #Testing cosmos == MedBox cosmos"
   ]
  },
  {
   "cell_type": "code",
   "execution_count": 4,
   "metadata": {},
   "outputs": [],
   "source": [
    "#Create emulators\n",
    "bias_emu = bias_emulator.bias_emulator()\n",
    "bias_emu.set_cosmology(cosmo_dict)\n",
    "hmf_emu = hmf_emulator.hmf_emulator()\n",
    "hmf_emu.set_cosmology(cosmo_dict)"
   ]
  },
  {
   "cell_type": "code",
   "execution_count": 5,
   "metadata": {},
   "outputs": [],
   "source": [
    "#Make a function to get halo data\n",
    "def get_halo_data(snap, auto=False):\n",
    "    datapath = \"./data_for_plots/\"\n",
    "    _, Mlos, Mhis, Masses = np.loadtxt(datapath+\"Box000_Z%d_halo_means_hmcf.txt\"%snap, \n",
    "                                       unpack=True)\n",
    "    Mhis[-1] = 10**16.5\n",
    "    return Mlos, Mhis, Masses\n",
    "\n",
    "redshifts = 1./AD.scale_factors() - 1\n",
    "colors = [plt.get_cmap(\"seismic\")(ci) for ci in np.linspace(1.0, 0.0, len(redshifts))]"
   ]
  },
  {
   "cell_type": "code",
   "execution_count": 6,
   "metadata": {},
   "outputs": [],
   "source": [
    "def get_bias_data(snap, auto=False):\n",
    "    datapath = \"./data_for_plots/\"\n",
    "    inpath = datapath+\"Box000_Z%d_DS50_linearbias.txt\"%snap\n",
    "    if auto:\n",
    "        inpath = datapath+\"Box000_Z%d_DS50_auto_linearbias.txt\"%snap\n",
    "    _, _, _, b, be = np.loadtxt(inpath, unpack=True)\n",
    "    if auto:\n",
    "        b = np.sqrt(b)\n",
    "        be = be/(2*b)\n",
    "    return b, be"
   ]
  },
  {
   "cell_type": "code",
   "execution_count": 7,
   "metadata": {},
   "outputs": [],
   "source": [
    "#Write a function to get the correct bin-averaged bias\n",
    "def bin_ave_biases_in_snap(snap):\n",
    "    \n",
    "    Mlos, Mhis, Masses = get_halo_data(snap)\n",
    "    \n",
    "    Marr = np.logspace(np.log10(Mlos[0]), np.log10(Mhis[-1]), 1000)\n",
    "    lnMarr = np.log(Marr)\n",
    "    bias_at_Marr = bias_emu.bias(Marr, redshifts[snap])\n",
    "    dndM_at_Marr = hmf_emu.dndM(Marr, redshifts[snap])\n",
    "    \n",
    "    bhmf_spl = IUS(lnMarr, bias_at_Marr*dndM_at_Marr*Marr)\n",
    "    hmf_spl = IUS(lnMarr, dndM_at_Marr*Marr)\n",
    "\n",
    "    lnMlos = np.log(Mlos)\n",
    "    lnMhis = np.log(Mhis)\n",
    "    \n",
    "    output = np.zeros_like(Mlos)\n",
    "    for i in range(len(output)):\n",
    "        num = bhmf_spl.integral(lnMlos[i], lnMhis[i])\n",
    "        den = hmf_spl.integral(lnMlos[i], lnMhis[i])\n",
    "        output[i] = num/den\n",
    "    return output"
   ]
  },
  {
   "cell_type": "code",
   "execution_count": 8,
   "metadata": {},
   "outputs": [],
   "source": [
    "#Write a function to get the correct bin-averaged bias^2\n",
    "def bin_ave_b2_in_snap(snap):\n",
    "    \n",
    "    Mlos, Mhis, Masses = get_halo_data(snap)\n",
    "    \n",
    "    Marr = np.logspace(np.log10(Mlos[0]), np.log10(Mhis[-1]), 1000)\n",
    "    lnMarr = np.log(Marr)\n",
    "    bias_at_Marr = bias_emu.bias(Marr, redshifts[snap])\n",
    "    dndM_at_Marr = hmf_emu.dndM(Marr, redshifts[snap])\n",
    "    \n",
    "    b2hmf_spl = IUS(lnMarr, bias_at_Marr*bias_at_Marr*dndM_at_Marr*Marr)\n",
    "    hmf_spl = IUS(lnMarr, dndM_at_Marr*Marr)\n",
    "\n",
    "    lnMlos = np.log(Mlos)\n",
    "    lnMhis = np.log(Mhis)\n",
    "    \n",
    "    output = np.zeros_like(Mlos)\n",
    "    for i in range(len(output)):\n",
    "        num = b2hmf_spl.integral(lnMlos[i], lnMhis[i])\n",
    "        den = hmf_spl.integral(lnMlos[i], lnMhis[i])\n",
    "        output[i] = num/den\n",
    "    return output"
   ]
  },
  {
   "cell_type": "code",
   "execution_count": 12,
   "metadata": {},
   "outputs": [
    {
     "data": {
      "image/png": "[encoded data removed]",
      "text/plain": [
       "<Figure size 432x288 with 2 Axes>"
      ]
     },
     "metadata": {},
     "output_type": "display_data"
    }
   ],
   "source": [
    "fig, ax = plt.subplots(ncols=1, nrows=2, sharex=True)#, figsize=(9,4))\n",
    "plt.subplots_adjust(hspace=0.0)\n",
    "ax[0].set_xscale('log')\n",
    "ax[0].set_ylabel(r\"$b(M)$\")\n",
    "ax[1].set_ylabel(r\"$\\Delta\\ [\\%]$\")\n",
    "ax[1].set_xlabel(r\"${\\rm Mass}\\ [h^{-1}{\\rm M_\\odot}]$\")\n",
    "ax[1].set_ylim(-10, 10)\n",
    "ax[0].set_yticks([2,4,6,8])\n",
    "ax[0].set_yticklabels([2,4,6,8])\n",
    "ax[0].set_yticks([1,3,5,7], minor=True)\n",
    "ax[1].set_yticks([-10, -5, 0, 5, 10])\n",
    "ax[1].set_yticklabels([-10, -5, 0, 5, 10])\n",
    "ax[1].set_yticks([-7.5, -2.5, 2.5, 7.5], minor=True)\n",
    "\n",
    "snaps = [2,6,9]\n",
    "MS = 6 #markersize\n",
    "for snap in snaps:\n",
    "    _, _, M = get_halo_data(snap)\n",
    "    \n",
    "    bm = bin_ave_biases_in_snap(snap)\n",
    "    ax[0].plot(M, bm, c=colors[snap], zorder=-1)\n",
    "    \n",
    "    b_data1, be_data1 = get_bias_data(snap, auto=False)\n",
    "    ax[0].errorbar(M, b_data1, be_data1, c=colors[snap], ls='', marker='.', markersize=MS)\n",
    "    #ax[1].errorbar(M, (b_data1-bm)/bm*100, be_data1/bm*100, c=colors[snap], ls='', marker='.', markersize=MS)\n",
    "    \n",
    "    b_data2, be_data2 = get_bias_data(snap, auto=True)\n",
    "    ax[0].errorbar(M, b_data2, be_data2, c=colors[snap], ls='', marker='^', mfc='w', markersize=MS)\n",
    "    ax[1].errorbar(M, (b_data2-bm)/bm*100, be_data2/bm*100, c=colors[snap], ls='', marker='^', mfc=\"w\", markersize=MS)\n",
    "    #err = np.sqrt((be_data2**2/b_data1**2) + be_data1**2*(b_data2**2/b_data1**4))*100\n",
    "    #ax[1].errorbar(M, (b_data2-b_data1)/b_data1*100, err, c=colors[snap], ls='', marker='^', mfc=\"w\", markersize=MS)\n",
    "\n",
    "ax[0].errorbar([],[], [], c='k', ls='', marker='.', markersize=MS, label=r\"from $\\xi_{\\rm hm}$\")\n",
    "ax[0].errorbar([],[], [], c='k', ls='', marker='^', mfc='w', markersize=MS, label=r\"from $\\xi_{\\rm hh}$\")\n",
    "ax[0].legend(frameon=False)\n",
    "ax[1].axhline(0, c='k', ls='--')\n",
    "xlims = ax[0].get_xlim()\n",
    "_ = ax[0].set_xlim((7.5e12, xlims[1]))\n",
    "plt.savefig(\"hh_vs_hm_box0.pdf\", bbox_inches=\"tight\")"
   ]
  },
  {
   "cell_type": "code",
   "execution_count": null,
   "metadata": {},
   "outputs": [],
   "source": []
  }
 ],
 "metadata": {
  "kernelspec": {
   "display_name": "Python 2",
   "language": "python",
   "name": "python2"
  },
  "language_info": {
   "codemirror_mode": {
    "name": "ipython",
    "version": 2
   },
   "file_extension": ".py",
   "mimetype": "text/x-python",
   "name": "python",
   "nbconvert_exporter": "python",
   "pygments_lexer": "ipython2",
   "version": "2.7.13"
  }
 },
 "nbformat": 4,
 "nbformat_minor": 2
}
