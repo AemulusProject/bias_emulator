{
 "cells": [
  {
   "cell_type": "markdown",
   "metadata": {},
   "source": [
    "# Updated accuracy\n",
    "\n",
    "The previous accuracy requirements were based on an estimate of the scaling of $\\Delta\\Sigma$ with mass, but at a scale that we were not measuring in this project. Therefore, we will take a different approach and plot a different quantity: the mass at a given redshift for which the emulator will have reached 1% accuracy in mass. So, we can compute the required precision as\n",
    "$$\n",
    "\\frac{\\sigma_b}{b} = \\frac{M}{b}\\frac{{\\rm d}b}{{\\rm d}M}\\frac{\\sigma_M}{M}\\,.\n",
    "$$\n",
    "where $\\sigma_M/M = 0.01$."
   ]
  },
  {
   "cell_type": "code",
   "execution_count": 1,
   "metadata": {},
   "outputs": [],
   "source": [
    "import numpy as np\n",
    "import bias_emulator\n",
    "from classy import Class #for k and P(k)\n",
    "import cluster_toolkit as ct\n",
    "import matplotlib.pyplot as plt\n",
    "from scipy import optimize as op\n",
    "%matplotlib inline"
   ]
  },
  {
   "cell_type": "code",
   "execution_count": 2,
   "metadata": {},
   "outputs": [],
   "source": [
    "plt.rc(\"text\", usetex=True)\n",
    "plt.rc(\"font\", size=18, family=\"serif\")"
   ]
  },
  {
   "cell_type": "code",
   "execution_count": 3,
   "metadata": {},
   "outputs": [],
   "source": [
    "accuracy_model = bias_emulator.accuracy_model.bias_accuracy() #this yields the accuracy of the emulator"
   ]
  },
  {
   "cell_type": "code",
   "execution_count": 4,
   "metadata": {},
   "outputs": [],
   "source": [
    "#Define areas, source densities, and zstars for different surveys\n",
    "names = [\"DES Y1\", \"DES Y5\", \"LSST Y1\"]"
   ]
  },
  {
   "cell_type": "code",
   "execution_count": 5,
   "metadata": {},
   "outputs": [
    {
     "name": "stdout",
     "output_type": "stream",
     "text": [
      "Computing CLASS\n",
      "sigma8 is: 0.79999742061\n"
     ]
    }
   ],
   "source": [
    "Omega_b = 0.05\n",
    "Omega_m = 0.3\n",
    "Omega_cdm = Omega_m - Omega_b\n",
    "h = 0.7\n",
    "params = {\n",
    "        'output': 'mPk',\n",
    "        \"h\":h,\n",
    "        \"A_s\":1.9735e-9, #Yields sigma8 = 0.8\n",
    "        \"n_s\":0.96,\n",
    "        \"Omega_b\":Omega_b,\n",
    "        \"Omega_cdm\":Omega_cdm,\n",
    "        'P_k_max_1/Mpc':100.,\n",
    "        'z_max_pk':1.0}\n",
    "cosmo = Class()\n",
    "cosmo.set(params)\n",
    "print \"Computing CLASS\"\n",
    "cosmo.compute()\n",
    "print \"sigma8 is:\", cosmo.sigma8()\n",
    "\n",
    "def get_k_and_P(z):\n",
    "    k = np.logspace(-5, 2, base=10, num=2000)/h #h/Mpc\n",
    "    Plin = np.array([cosmo.pk_lin(ki*h, z=z) for ki in k]) #Must call with k in units of 1/Mpc\n",
    "    return k, Plin*h**3"
   ]
  },
  {
   "cell_type": "code",
   "execution_count": 6,
   "metadata": {},
   "outputs": [],
   "source": [
    "def root_equation(M, z, acc, k, P, Omega_m):\n",
    "    dbdM = ct.bias.dbiasdM_at_M(M, k, P, Omega_m)\n",
    "    bias = ct.bias.bias_at_M(M, k, P, Omega_m)\n",
    "    nu = ct.peak_height.nu_at_M(M, k, P, Omega_m)\n",
    "    \n",
    "    acc_model = accuracy_model.accuracy_at_nu_z(nu, z)\n",
    "    req = M / bias * dbdM * acc\n",
    "    return req - acc_model"
   ]
  },
  {
   "cell_type": "code",
   "execution_count": 7,
   "metadata": {},
   "outputs": [
    {
     "name": "stdout",
     "output_type": "stream",
     "text": [
      "3.88061746556e+16\n"
     ]
    }
   ],
   "source": [
    "z = 0.2\n",
    "k, P = get_k_and_P(z)\n",
    "accuracy = 0.01 #percent\n",
    "\n",
    "Mmin = op.bisect(root_equation, 1e12, 1e17, args=(z, 0.01, k, P, Omega_m))\n",
    "print(Mmin)"
   ]
  },
  {
   "cell_type": "code",
   "execution_count": 8,
   "metadata": {},
   "outputs": [],
   "source": [
    "zarr = np.linspace(0.0, 2.)\n",
    "accs = [0.015, 0.02, 0.03]\n",
    "labels = [r\"$1.5\\%$\", r\"$2\\%$\", r\"$3\\%$\"]\n",
    "Mmin_all = np.zeros((len(accs), len(zarr)))\n",
    "for j, z in enumerate(zarr):\n",
    "    k, P = get_k_and_P(z)\n",
    "    for i, accuracy in enumerate(accs):\n",
    "        Mmin_all[i,j] = op.bisect(root_equation, 1e10, 1e17, args=(z, accuracy, k, P, Omega_m))"
   ]
  },
  {
   "cell_type": "code",
   "execution_count": 9,
   "metadata": {},
   "outputs": [
    {
     "data": {
      "image/png": "[encoded data removed]",
      "text/plain": [
       "<matplotlib.figure.Figure at 0x13201d2690>"
      ]
     },
     "metadata": {
      "needs_background": "light"
     },
     "output_type": "display_data"
    }
   ],
   "source": [
    "fig, ax = plt.subplots(figsize=(9,4))\n",
    "colors = [\"b\", \"r\", \"g\"]\n",
    "for i, accuracy in enumerate(accs):\n",
    "    ax.plot(zarr, Mmin_all[i], label=labels[i], c=colors[i])\n",
    "ax.set_yscale(\"log\")\n",
    "ax.set_ylabel(r\"$M_{\\rm min}\\ [h^{-1}{\\rm M}_{\\odot}]$\")\n",
    "ax.set_xlabel(r\"Redshift\")\n",
    "ax.set_xlim(min(zarr), max(zarr))\n",
    "ax.set_ylim(5e12, 5e15)\n",
    "ax.axhline(9e12, c=\"k\", ls='--')\n",
    "ax.legend(frameon=False)\n",
    "fig.savefig(\"minimum_allowed_mass.png\", dpi=300, bbox_inches=\"tight\")\n",
    "fig.savefig(\"minimum_allowed_mass.pdf\", dpi=300, bbox_inches=\"tight\")"
   ]
  },
  {
   "cell_type": "code",
   "execution_count": null,
   "metadata": {},
   "outputs": [],
   "source": []
  }
 ],
 "metadata": {
  "kernelspec": {
   "display_name": "Python 2",
   "language": "python",
   "name": "python2"
  },
  "language_info": {
   "codemirror_mode": {
    "name": "ipython",
    "version": 2
   },
   "file_extension": ".py",
   "mimetype": "text/x-python",
   "name": "python",
   "nbconvert_exporter": "python",
   "pygments_lexer": "ipython2",
   "version": "2.7.15"
  }
 },
 "nbformat": 4,
 "nbformat_minor": 2
}
