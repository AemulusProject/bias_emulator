{
 "cells": [
  {
   "cell_type": "markdown",
   "metadata": {},
   "source": [
    "# Parameters at specific cosmologies\n",
    "\n",
    "In this notebook we train emulators at specific cosmologies of interest and print out the predicted bias parameters.\n",
    "\n",
    "The cosmologies we will look at are LCDM Planck 2015, 2018, DES Y1 3x2pt, and wCDM versions of both."
   ]
  },
  {
   "cell_type": "code",
   "execution_count": 1,
   "metadata": {},
   "outputs": [],
   "source": [
    "import bias_emulator"
   ]
  },
  {
   "cell_type": "code",
   "execution_count": 2,
   "metadata": {},
   "outputs": [],
   "source": [
    "#Planck 2015 TT+lowP+lensing+ext (Neff comes from the abstract)\n",
    "Planck2015_LCDM = {\"omega_b\":0.02227, \"omega_cdm\":0.1184, \"w0\":-1.0,\n",
    "             \"n_s\":0.9681, \"ln10As\":3.064, \"H0\":67.90,\"N_eff\":3.15}\n",
    "Planck2015_wCDM = {\"omega_b\":0.02227, \"omega_cdm\":0.1184, \"w0\":-1.006,\n",
    "             \"n_s\":0.9681, \"ln10As\":3.064, \"H0\":67.90,\"N_eff\":3.15}"
   ]
  },
  {
   "cell_type": "code",
   "execution_count": 3,
   "metadata": {},
   "outputs": [],
   "source": [
    "#Planck 2018 TT+lowP+lensing+ext (Neff comes from the abstract)\n",
    "Planck2018_LCDM = {\"omega_b\":0.02237, \"omega_cdm\":0.1200, \"w0\":-1.0,\n",
    "             \"n_s\":0.9649, \"ln10As\":3.044, \"H0\":67.36,\"N_eff\":2.99}\n",
    "Planck2018_wCDM = {\"omega_b\":0.02237, \"omega_cdm\":0.1200, \"w0\":-1.028,\n",
    "             \"n_s\":0.9649, \"ln10As\":3.044, \"H0\":67.36,\"N_eff\":2.99}"
   ]
  },
  {
   "cell_type": "code",
   "execution_count": 4,
   "metadata": {},
   "outputs": [],
   "source": [
    "#DES Y1 3x2pt + JLA + BAO\n",
    "h = 0.679\n",
    "DES_LCDM = {\"omega_b\":0.0493*h**2, \"omega_cdm\":(0.301-0.0493)*h**2, \"w0\":-1.0,\n",
    "             \"n_s\":1.05, \"ln10As\":3.042931, \"H0\":h*100,\"N_eff\":3.046}\n",
    "#DES Y1 + JLA + BAO + Planck\n",
    "h = 0.683\n",
    "DES_wCDM = {\"omega_b\":0.0479*h**2, \"omega_cdm\":(0.299-0.0479)*h**2, \"w0\":-1.00,\n",
    "             \"n_s\":0.973, \"ln10As\":3.186, \"H0\":67.36,\"N_eff\":3.046}"
   ]
  },
  {
   "cell_type": "code",
   "execution_count": 5,
   "metadata": {},
   "outputs": [
    {
     "name": "stdout",
     "output_type": "stream",
     "text": [
      "\tPlanck (2015) $\\Lambda$CDM & 1.147 & -1.192 & 0.282 & 0.748 \\\\\n",
      "\tPlanck (2015)+JLA+BAO+$H_0$ $w$CDM & 1.145 & -1.189 & 0.272 & 0.743 \\\\\n",
      "\tPlanck (2018) $\\Lambda$CDM & 1.132 & -1.071 & 0.230 & 0.746 \\\\\n",
      "\tPlanck (2018)+JLA+BAO $w$CDM & 1.122 & -1.044 & 0.179 & 0.727 \\\\\n",
      "\tDES+JLA+BAO $\\Lambda$CDM & 1.166 & -1.400 & 0.264 & 0.726 \\\\\n",
      "\tDES+Planck+JLA+BAO $w$CDM & 1.113 & -0.938 & 0.400 & 0.802 \\\\\n"
     ]
    }
   ],
   "source": [
    "bias_emu = bias_emulator.bias_emulator()\n",
    "names=[\"Planck (2015) $\\Lambda$CDM\",\"Planck (2015)+JLA+BAO+$H_0$ $w$CDM\",\n",
    "       \"Planck (2018) $\\Lambda$CDM\",\"Planck (2018)+JLA+BAO $w$CDM\",\n",
    "       \"DES+JLA+BAO $\\Lambda$CDM\",\"DES+Planck+JLA+BAO $w$CDM\"]\n",
    "line = \"\\t%s & %.3f & %.3f & %.3f & %.3f \\\\\\\\\"\n",
    "\n",
    "for i, cos in enumerate([Planck2015_LCDM, Planck2015_wCDM, Planck2018_LCDM, \n",
    "            Planck2018_wCDM,DES_LCDM, DES_wCDM]):\n",
    "    pars = bias_emu.predict(cos)\n",
    "    outline = line%(names[i],pars[0],pars[1],pars[2],pars[3])\n",
    "    print outline"
   ]
  },
  {
   "cell_type": "code",
   "execution_count": 6,
   "metadata": {},
   "outputs": [],
   "source": [
    "import hmf_emulator\n",
    "hmf_emu = hmf_emulator.hmf_emulator()"
   ]
  },
  {
   "cell_type": "code",
   "execution_count": 7,
   "metadata": {},
   "outputs": [
    {
     "name": "stdout",
     "output_type": "stream",
     "text": [
      "\tPlanck (2015) $\\Lambda$CDM & 0.865 & 0.502 & 1.253 & 0.239 & 0.170 & 0.113 \\\\\n",
      "\tPlanck (2015)+JLA+BAO+$H_0$ $w$CDM & 0.866 & 0.501 & 1.252 & 0.229 & 0.167 & 0.106 \\\\\n",
      "\tPlanck (2018) $\\Lambda$CDM & 0.864 & 0.503 & 1.254 & 0.268 & 0.175 & 0.121 \\\\\n",
      "\tPlanck (2018)+JLA+BAO $w$CDM & 0.867 & 0.500 & 1.246 & 0.226 & 0.164 & 0.090 \\\\\n",
      "\tDES+JLA+BAO $\\Lambda$CDM & 0.862 & 0.513 & 1.260 & 0.198 & 0.176 & 0.108 \\\\\n",
      "\tDES+Planck+JLA+BAO $w$CDM & 0.899 & 0.495 & 1.263 & 0.209 & 0.192 & 0.141 \\\\\n"
     ]
    }
   ],
   "source": [
    "line = \"\\t%s & %.3f & %.3f & %.3f & %.3f & %.3f & %.3f \\\\\\\\\"\n",
    "for i, cos in enumerate([Planck2015_LCDM, Planck2015_wCDM, Planck2018_LCDM, \n",
    "            Planck2018_wCDM,DES_LCDM, DES_wCDM]):\n",
    "    pars = hmf_emu.predict(cos)\n",
    "    outline = line%(names[i],pars[0],pars[1],pars[2],pars[3],pars[4],pars[5])\n",
    "    print outline"
   ]
  },
  {
   "cell_type": "code",
   "execution_count": null,
   "metadata": {},
   "outputs": [],
   "source": []
  }
 ],
 "metadata": {
  "kernelspec": {
   "display_name": "Python 2",
   "language": "python",
   "name": "python2"
  },
  "language_info": {
   "codemirror_mode": {
    "name": "ipython",
    "version": 2
   },
   "file_extension": ".py",
   "mimetype": "text/x-python",
   "name": "python",
   "nbconvert_exporter": "python",
   "pygments_lexer": "ipython2",
   "version": "2.7.13"
  }
 },
 "nbformat": 4,
 "nbformat_minor": 2
}
